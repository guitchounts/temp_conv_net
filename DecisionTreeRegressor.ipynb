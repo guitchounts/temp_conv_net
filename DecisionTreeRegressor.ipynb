{
 "cells": [
  {
   "cell_type": "code",
   "execution_count": 1,
   "metadata": {},
   "outputs": [],
   "source": [
    "import numpy as np\n",
    "import pandas as pd\n",
    "import sys,os\n",
    "import pylab\n",
    "from scipy import stats,signal,io\n",
    "import matplotlib.pyplot as plt\n",
    "%matplotlib inline\n",
    "from sklearn import linear_model\n",
    "import pickle\n",
    "import seaborn as sns\n",
    "sns.set_style('white')\n",
    "sns.set_style('ticks')\n",
    "import h5py\n",
    "import matplotlib.gridspec as gridspec\n",
    "plt.rcParams['pdf.fonttype'] = 'truetype'"
   ]
  },
  {
   "cell_type": "code",
   "execution_count": 2,
   "metadata": {},
   "outputs": [
    {
     "data": {
      "text/plain": [
       "'/Users/guitchounts/Documents/GitHub/temp_conv_net'"
      ]
     },
     "execution_count": 2,
     "metadata": {},
     "output_type": "execute_result"
    }
   ],
   "source": [
    "os.getcwd()"
   ]
  },
  {
   "cell_type": "code",
   "execution_count": 3,
   "metadata": {},
   "outputs": [
    {
     "data": {
      "text/plain": [
       "DecisionTreeRegressor(criterion='mse', max_depth=8, max_features=None,\n",
       "           max_leaf_nodes=None, min_impurity_decrease=0.0,\n",
       "           min_impurity_split=None, min_samples_leaf=1,\n",
       "           min_samples_split=2, min_weight_fraction_leaf=0.0,\n",
       "           presort=False, random_state=None, splitter='best')"
      ]
     },
     "execution_count": 3,
     "metadata": {},
     "output_type": "execute_result"
    }
   ],
   "source": [
    "from sklearn.tree import DecisionTreeRegressor\n",
    "\n",
    "# Create a random dataset\n",
    "rng = np.random.RandomState(1)\n",
    "X = np.sort(200 * rng.rand(100, 1) - 100, axis=0)\n",
    "y = np.array([np.pi * np.sin(X).ravel(), np.pi * np.cos(X).ravel()]).T\n",
    "y[::5, :] += (0.5 - rng.rand(20, 2))\n",
    "\n",
    "# Fit regression model\n",
    "regr_1 = DecisionTreeRegressor(max_depth=2)\n",
    "regr_2 = DecisionTreeRegressor(max_depth=5)\n",
    "regr_3 = DecisionTreeRegressor(max_depth=8)\n",
    "regr_1.fit(X, y)\n",
    "regr_2.fit(X, y)\n",
    "regr_3.fit(X, y)"
   ]
  },
  {
   "cell_type": "code",
   "execution_count": 4,
   "metadata": {},
   "outputs": [],
   "source": [
    "\n",
    "# Predict\n",
    "X_test = np.arange(-100.0, 100.0, 0.01)[:, np.newaxis]\n",
    "y_1 = regr_1.predict(X_test)\n",
    "y_2 = regr_2.predict(X_test)\n",
    "y_3 = regr_3.predict(X_test)"
   ]
  },
  {
   "cell_type": "code",
   "execution_count": 5,
   "metadata": {},
   "outputs": [
    {
     "data": {
      "image/png": "[encoded data removed]",
      "text/plain": [
       "<matplotlib.figure.Figure at 0x1c0e37da10>"
      ]
     },
     "metadata": {},
     "output_type": "display_data"
    }
   ],
   "source": [
    "\n",
    "# Plot the results\n",
    "plt.figure()\n",
    "s = 25\n",
    "plt.scatter(y[:, 0], y[:, 1], c=\"navy\", s=s,\n",
    "            edgecolor=\"black\", label=\"data\")\n",
    "plt.scatter(y_1[:, 0], y_1[:, 1], c=\"cornflowerblue\", s=s,\n",
    "            edgecolor=\"black\", label=\"max_depth=2\")\n",
    "plt.scatter(y_2[:, 0], y_2[:, 1], c=\"red\", s=s,\n",
    "            edgecolor=\"black\", label=\"max_depth=5\")\n",
    "plt.scatter(y_3[:, 0], y_3[:, 1], c=\"orange\", s=s,\n",
    "            edgecolor=\"black\", label=\"max_depth=8\")\n",
    "plt.xlim([-6, 6])\n",
    "plt.ylim([-6, 6])\n",
    "plt.xlabel(\"target 1\")\n",
    "plt.ylabel(\"target 2\")\n",
    "plt.title(\"Multi-output Decision Tree Regression\")\n",
    "plt.legend(loc=\"best\")\n",
    "plt.show()"
   ]
  },
  {
   "cell_type": "code",
   "execution_count": 6,
   "metadata": {},
   "outputs": [
    {
     "data": {
      "text/plain": [
       "(100, 2)"
      ]
     },
     "execution_count": 6,
     "metadata": {},
     "output_type": "execute_result"
    }
   ],
   "source": [
    "y.shape"
   ]
  },
  {
   "cell_type": "code",
   "execution_count": 7,
   "metadata": {},
   "outputs": [],
   "source": [
    "rat_path = '/Users/guitchounts/Dropbox (coxlab)/Ephys/Data/GRat27/636505101334801062/'"
   ]
  },
  {
   "cell_type": "code",
   "execution_count": 11,
   "metadata": {},
   "outputs": [],
   "source": [
    "def filter(ephys,freq_range,filt_order = 4,filt_type='bandpass',fs=10.):\n",
    "\n",
    "    # design Elliptic filter:\n",
    "\n",
    "    [b,a] = signal.butter(filt_order,[freq/(fs/2) for freq in freq_range],btype=filt_type)\n",
    "\n",
    "    filtered_trace = signal.filtfilt(b,a,ephys,axis=0)\n",
    "    return filtered_trace"
   ]
  },
  {
   "cell_type": "code",
   "execution_count": 10,
   "metadata": {},
   "outputs": [
    {
     "name": "stdout",
     "output_type": "stream",
     "text": [
      "('mua_file keys:', [u'firing_rates'])\n",
      "('Shape of neural data, as loaded: ', (712910, 16))\n"
     ]
    }
   ],
   "source": [
    "## get and format data\n",
    "mua_file = h5py.File(rat_path + 'mua_firing_rates_100hz.hdf5', 'r')\n",
    "print('mua_file keys:',mua_file.keys())\n",
    "data_name = list(mua_file.keys())[0]\n",
    "\n",
    "neural_data = np.asarray(mua_file[data_name]) # iterate through powerbands\n",
    "\n",
    "\n",
    "\n",
    "print('Shape of neural data, as loaded: ', neural_data.shape)\n",
    "if neural_data.shape[0] > neural_data.shape[1]:   #### ephys should be channels x samples\n",
    "    neural_data = neural_data.T\n",
    "\n",
    "\n",
    "fs = 100.\n",
    "\n",
    "#tetrodes = grouper(neural_data, neural_data.shape[0]\n"
   ]
  },
  {
   "cell_type": "code",
   "execution_count": 12,
   "metadata": {},
   "outputs": [
    {
     "name": "stdout",
     "output_type": "stream",
     "text": [
      "('head_signals shape: ', (712910, 9))\n",
      "Filtering head signal ox\n",
      "Filtering head signal oy\n",
      "Filtering head signal oz\n",
      "('after NOT decode_signals, head_signals.shape = ', (712910, 3))\n"
     ]
    }
   ],
   "source": [
    "head_signals_h5 = h5py.File(rat_path + 'all_head_data_100hz.hdf5', 'r')\n",
    "idx_start, idx_stop = [0,9]\n",
    "head_signals = np.asarray([np.asarray(head_signals_h5[key]) for key in head_signals_h5.keys()][0:9]).T[:,idx_start:idx_stop]\n",
    "print('head_signals shape: ', head_signals.shape)\n",
    "\n",
    "## lowpass filter:\n",
    "for x in range(6,9):\n",
    "    print('Filtering head signal %s' % list(head_signals_h5.keys())[x])\n",
    "    head_signals[:,x] = filter(head_signals[:,x],[1],filt_type='lowpass',fs=fs)\n",
    "\n",
    "\n",
    "\n",
    "\n",
    "head_signals = np.vstack([head_signals[:,6],head_signals[:,7],head_signals[:,8]]).T\n",
    "print('after NOT decode_signals, head_signals.shape = ',head_signals.shape)\n",
    "head_signals_int = ['yaw_abs', 'roll_abs', 'pitch_abs']"
   ]
  },
  {
   "cell_type": "code",
   "execution_count": 13,
   "metadata": {},
   "outputs": [
    {
     "data": {
      "text/plain": [
       "(712910, 3)"
      ]
     },
     "execution_count": 13,
     "metadata": {},
     "output_type": "execute_result"
    }
   ],
   "source": [
    "head_signals.shape"
   ]
  },
  {
   "cell_type": "code",
   "execution_count": 14,
   "metadata": {},
   "outputs": [
    {
     "data": {
      "text/plain": [
       "(16, 712910)"
      ]
     },
     "execution_count": 14,
     "metadata": {},
     "output_type": "execute_result"
    }
   ],
   "source": [
    "neural_data.shape"
   ]
  },
  {
   "cell_type": "code",
   "execution_count": 1,
   "metadata": {},
   "outputs": [],
   "source": [
    "import data_helpers"
   ]
  },
  {
   "cell_type": "code",
   "execution_count": null,
   "metadata": {},
   "outputs": [],
   "source": [
    "def determine_fit(X, y, y_key, nn_params,save_dir, plot_result=True,model_type = 'temp_conv'):\n",
    "\n",
    "    #if y_key[0].find('yaw') == -1:\n",
    "    custom_loss = 0\n",
    "    #     print('Training on %s, using MSE as loss function' % y_key[0])\n",
    "    # else:\n",
    "    #     custom_loss = 1\n",
    "    #     print('Training on %s, using custom loss function' % y_key[0])\n",
    "    \n",
    "    \n",
    "\n",
    "    model, X_train, X_test, y_train, y_test = evaluate_timeseries(\n",
    "        X, \n",
    "        y, \n",
    "        nn_params,\n",
    "        custom_loss,\n",
    "        model_type=model_type\n",
    "    )\n",
    "    \n",
    "    y_test_hat = model.predict(X_test)\n",
    "    \n",
    "    if model_type == 'ridge' or model_type == 'lasso':\n",
    "        # save the model:\n",
    "        joblib.dump(model, save_dir + str(y_key) + '_%s.pkl' % model_type) \n",
    "\n",
    "    R2s, rs = do_the_thing(\n",
    "        y_test, \n",
    "        y_test_hat, \n",
    "        y_key, \n",
    "        'temp_conv_results_{}_{}'.format(nn_params['id'], y_key),\n",
    "        save_dir,\n",
    "        plot_result=plot_result\n",
    "    )\n",
    "    \n",
    "    return R2s, rs"
   ]
  },
  {
   "cell_type": "code",
   "execution_count": 2,
   "metadata": {},
   "outputs": [],
   "source": [
    "def evaluate_timeseries(timeseries1, timeseries2, nn_params,custom_loss=0,model_type = 'temp_conv'):\n",
    "    nb_samples, nb_series = timeseries1.shape\n",
    "    \n",
    "    if timeseries2.ndim == 1:\n",
    "        timeseries2 = np.atleast_2d(timeseries2).T\n",
    "    \n",
    "\n",
    "\n",
    "    if 'shuffle' in nn_params.keys():\n",
    "        shuffle = nn_params['shuffle'] ## if the params file has a shuffle key, use it; otherwise set it to False \n",
    "    else:\n",
    "        shuffle = False\n",
    "\n",
    "\n",
    "    nb_out_samples, nb_out_series = timeseries2.shape\n",
    "\n",
    "    print('THE SHAPES OF timeseries1, timeseries2 ==== ',timeseries1.shape, timeseries2.shape)    \n",
    "    X, y = make_timeseries_instances(timeseries1, timeseries2, nn_params['window'], nn_params['offset'])\n",
    "    print('Shapes of X and y after making timeseries instance:', X.shape,y.shape)\n",
    "\n",
    "\n",
    "    if 'resample' in nn_params.keys():\n",
    "        resample = nn_params['resample']\n",
    "    else:\n",
    "        resample = 0\n",
    "        \n",
    "    if resample == 1:\n",
    "        print('###################### resampling y ######################')\n",
    "\n",
    "        sampled_dx_idx = sample_dx_uniformly(y)\n",
    "        sampled_dx_idx = np.sort(sampled_dx_idx)\n",
    "        \n",
    "        y = y[sampled_dx_idx,:]\n",
    "        X = X[sampled_dx_idx,:,:]\n",
    "        print('Shapes of X and y after resampling:', X.shape,y.shape)\n",
    "    \n",
    "    print(y.shape)\n",
    "    print(X.shape)\n",
    "\n",
    "\n",
    "    # non_zeros = np.where(abs(y) > 0.1 )[0]    \n",
    "    \n",
    "    # y = y[non_zeros,:]\n",
    "    # X = X[non_zeros,:,:]\n",
    "    # pos = np.where(y > 0)[0]\n",
    "    # neg = np.where(y < 0)[0]\n",
    "    # y[neg] = -1\n",
    "    # y[pos] = 1\n",
    "    #y = Normalizer(norm='l2').fit_transform(np.atleast_2d(y))\n",
    "    #y = (y - np.mean(y)) / np.std(y)\n",
    "    \n",
    "    \n",
    "\n",
    "    X, y = timeseries_shuffler(X, y, 3000, 25)\n",
    "    \n",
    "    if nn_params['verbose']: \n",
    "        print('\\n\\nTimeseries ({} samples by {} series):\\n'.format(nb_samples, nb_series))\n",
    "        print('\\n\\nExample input feature:', X[0], '\\n\\nExample output labels:', y[0])\n",
    "    \n",
    "    if model_type == 'ridge' or model_type == 'lasso':\n",
    "        print(model_type)\n",
    "        print('Making Linear %s Model' % model_type)\n",
    "        model = make_linear_model(model_type=model_type)\n",
    "        \n",
    "    else:\n",
    "        print(model_type)\n",
    "        print('Making TempConvNet Model')\n",
    "        model = make_timeseries_regressor(\n",
    "            nn_params,\n",
    "            nb_input_series=nb_series, \n",
    "            nb_outputs=nb_out_series,\n",
    "            custom_loss=custom_loss\n",
    "        )\n",
    "    \n",
    "\n",
    "    if nn_params['verbose']: \n",
    "        print('\\n\\nModel with input size {}, output size {}, {} conv filters of length {}'.format(model.input_shape, model.output_shape))\n",
    "        model.summary()\n",
    "    \n",
    "    X_train, X_test, y_train, y_test = split_data(X, y, 0.5,shuffle=shuffle)\n",
    "    \n",
    "    y_train = np.ravel(y_train)\n",
    "    y_test = np.ravel(y_test)\n",
    "    # print('###################### resampling y ######################')\n",
    "\n",
    "    # sampled_dx_idx_train = sample_dx_uniformly(y_train,num_points=5000)\n",
    "    # sampled_dx_idx_test = sample_dx_uniformly(y_test,num_points=5000)\n",
    "\n",
    "    # y_train = y_train[sampled_dx_idx_train,:]\n",
    "    # X_train = X_train[sampled_dx_idx_train,:,:]\n",
    "\n",
    "    # y_test = y_test[sampled_dx_idx_test,:]\n",
    "    # X_test = X_test[sampled_dx_idx_test,:,:]\n",
    "    # print('Shapes of X_train and y_train after resampling:', X_train.shape,y_train.shape)\n",
    "    \n",
    "    early_stopping = EarlyStopping(\n",
    "        monitor='val_loss', \n",
    "        min_delta=0, \n",
    "        patience=20, \n",
    "        verbose=1, \n",
    "        mode='auto'\n",
    "    )\n",
    "\n",
    "    if model_type == 'ridge' or model_type == 'lasso':\n",
    "        print('Reshaping X_train and X_test and fitting %s model' % model_type)\n",
    "        #### X's are (time, window, channels), e.g. (13085, 200, 16). Reshape for the linear model:\n",
    "        X_train = X_train.reshape(X_train.shape[0],(X_train.shape[1]*X_train.shape[2]))\n",
    "        X_test = X_test.reshape(X_test.shape[0],(X_test.shape[1]*X_test.shape[2]))\n",
    "        model.fit(X_train,y_train)\n",
    "\n",
    "        \n",
    "\n",
    "    else:\n",
    "        model.fit(\n",
    "            X_train, \n",
    "            y_train, \n",
    "            epochs=nn_params['eps'], \n",
    "            batch_size=nn_params['bs'], \n",
    "            validation_data=(X_test, y_test),\n",
    "            callbacks=[early_stopping]\n",
    "        )\n",
    "\n",
    "    return model, X_train, X_test, y_train, y_test"
   ]
  },
  {
   "cell_type": "code",
   "execution_count": null,
   "metadata": {},
   "outputs": [],
   "source": []
  }
 ],
 "metadata": {
  "kernelspec": {
   "display_name": "Python 3",
   "language": "python",
   "name": "python3"
  },
  "language_info": {
   "codemirror_mode": {
    "name": "ipython",
    "version": 3
   },
   "file_extension": ".py",
   "mimetype": "text/x-python",
   "name": "python",
   "nbconvert_exporter": "python",
   "pygments_lexer": "ipython3",
   "version": "3.6.5"
  }
 },
 "nbformat": 4,
 "nbformat_minor": 2
}
