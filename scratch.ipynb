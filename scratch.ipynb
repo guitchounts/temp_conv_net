{
 "cells": [
  {
   "cell_type": "code",
   "execution_count": 1,
   "metadata": {
    "collapsed": true
   },
   "outputs": [],
   "source": [
    "import h5py\n",
    "import numpy as np\n",
    "import pandas as pd"
   ]
  },
  {
   "cell_type": "code",
   "execution_count": 6,
   "metadata": {
    "collapsed": false
   },
   "outputs": [
    {
     "name": "stdout",
     "output_type": "stream",
     "text": [
      "lfp_file:  (384, 80690)\n"
     ]
    }
   ],
   "source": [
    "lfp_file = h5py.File('datasets/GRat31_636061_lfp_power.hdf5', 'r')\n",
    "lfp_data = lfp_file['lfp_power']\n",
    "print('lfp_file: ', lfp_data.shape)"
   ]
  },
  {
   "cell_type": "code",
   "execution_count": 19,
   "metadata": {
    "collapsed": false
   },
   "outputs": [
    {
     "name": "stdout",
     "output_type": "stream",
     "text": [
      "(418, 80690)\n"
     ]
    }
   ],
   "source": [
    "spikes_file = h5py.File('datasets/GRat31_636061_all_sorted_spikes.hdf5', 'r')\n",
    "spikes_data = np.asarray(spikes_file['sorted_spikes']).T\n",
    "all_neural_data = np.concatenate((lfp_data, spikes_data), axis=0)\n",
    "print(all_neural_data.shape)\n",
    "\n",
    "# lfp_data = lfp_file['lfp_power']\n",
    "# print('lfp_file: ', lfp_data.shape)"
   ]
  },
  {
   "cell_type": "code",
   "execution_count": null,
   "metadata": {
    "collapsed": true
   },
   "outputs": [],
   "source": [
    "spike_fs = 3e4\n",
    "\n",
    "def get_spike_times(ch):\n",
    "    spiketimes_file = './SpikeTimes/ChGroup_%d/SpikeTimes' % ch\n",
    "\n",
    "    spiketimes_file = open(spiketimes_file,'rb')\n",
    "    # chgroup_0_spike_times = fread(spiketimes_file,inf,'uint64=>uint64');\n",
    "\n",
    "    spike_times = np.fromfile(spiketimes_file,dtype=np.uint64) ## in samples\n",
    "    spiketimes_file.close()\n",
    "\n",
    "    last_spiketime = spike_times[-1]  ## in samples\n",
    "\n",
    "    #print 'last_spiketime = ', last_spiketime\n",
    "    win = 5. # sec\n",
    "    step = 1. # sec \n",
    "\n",
    "    center = (win * spike_fs)/2 + 100\n",
    "    win_times = []\n",
    "    windowed_rates = []\n",
    "    #print center / spike_fs,center+(win * spike_fs)/2 - 100\n",
    "    while center+(win * spike_fs)/2 - 100  <= last_spiketime:\n",
    "        win_times.append(center)\n",
    "        #print center-(win * lfp_fs)/2 - 1, center, center+(win * lfp_fs)/2 - 1\n",
    "        start = int(center-(win * spike_fs)/2 - 100) \n",
    "        stop = int(center+(win * spike_fs)/2 - 100) \n",
    "        \n",
    "        num_spikes_in_window = len(spike_times[(spike_times < stop) & (spike_times > start)])\n",
    "        \n",
    "        rate = num_spikes_in_window / win \n",
    "        \n",
    "        windowed_rates.append(rate)\n",
    "\n",
    "        #print start, stop,num_spikes_in_window\n",
    "\n",
    "        center += step*spike_fs\n",
    "        \n",
    "        \n",
    "    return win_times,windowed_rates\n",
    "\n",
    "win_times,windowed_rates = get_spike_times(0)"
   ]
  }
 ],
 "metadata": {
  "kernelspec": {
   "display_name": "Python 3",
   "language": "python",
   "name": "python3"
  },
  "language_info": {
   "codemirror_mode": {
    "name": "ipython",
    "version": 3
   },
   "file_extension": ".py",
   "mimetype": "text/x-python",
   "name": "python",
   "nbconvert_exporter": "python",
   "pygments_lexer": "ipython3",
   "version": "3.6.0"
  }
 },
 "nbformat": 4,
 "nbformat_minor": 2
}
